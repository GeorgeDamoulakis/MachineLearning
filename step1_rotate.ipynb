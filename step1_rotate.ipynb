{
 "cells": [
  {
   "cell_type": "code",
   "execution_count": 1,
   "metadata": {},
   "outputs": [
    {
     "data": {
      "text/plain": [
       "4"
      ]
     },
     "execution_count": 1,
     "metadata": {},
     "output_type": "execute_result"
    }
   ],
   "source": [
    "import numpy as np\n",
    "import matplotlib.pyplot as plt\n",
    "import skimage\n",
    "from skimage import filters, transform, util\n",
    "import os\n",
    "import cv2 as cv"
   ]
  },
  {
   "cell_type": "code",
   "execution_count": null,
   "metadata": {},
   "outputs": [],
   "source": [
    "dirName = (\"C:\\\\Users\\\\grdmg\\\\Desktop\\\\deep_condensation\\\\images\") #the original images"
   ]
  },
  {
   "cell_type": "code",
   "execution_count": null,
   "metadata": {},
   "outputs": [],
   "source": [
    "def getListOfFiles(dirName):\n",
    "    # create a list of file and sub directories\n",
    "    # names in the given directory\n",
    "    listOfFile = os.listdir(dirName)\n",
    "    allFiles = list()\n",
    "    # Iterate over all the entries\n",
    "    for entry in listOfFile:\n",
    "        # Create full path\n",
    "        fullPath = os.path.join(dirName, entry)\n",
    "        # If entry is a directory then get the list of files in this directory\n",
    "        if os.path.isdir(fullPath):\n",
    "            allFiles = allFiles + getListOfFiles(fullPath)\n",
    "        else:\n",
    "            allFiles.append(fullPath)\n",
    "\n",
    "    return allFiles"
   ]
  },
  {
   "cell_type": "code",
   "execution_count": null,
   "metadata": {},
   "outputs": [],
   "source": [
    "listOfFiles = getListOfFiles(dirName)\n",
    "listOfFiles.sort()\n",
    "L = len(listOfFiles)\n",
    "\n",
    "for i in range(L):\n",
    "    image_name = listOfFiles[i]\n",
    "    img = cv.imread(image_name)\n",
    "    img_rotate_90_clockwise = cv.rotate(img, cv.ROTATE_90_CLOCKWISE)\n",
    "    cv.imwrite(f\"img{i}_90_clock.tif\", img_rotate_90_clockwise)\n",
    "    img_rotate_90_counterclockwise = cv.rotate(img, cv.ROTATE_90_COUNTERCLOCKWISE)\n",
    "    cv.imwrite(f\"img{i}_90_counter_clock.tif\", img_rotate_90_counterclockwise)\n",
    "    img_rotate_180 = cv.rotate(img, cv.ROTATE_180)\n",
    "    cv.imwrite(f\"img{i}_190_clock.tif\", img_rotate_180)"
   ]
  }
 ],
 "metadata": {
  "kernelspec": {
   "display_name": "Python 3",
   "language": "python",
   "name": "python3"
  },
  "language_info": {
   "codemirror_mode": {
    "name": "ipython",
    "version": 3
   },
   "file_extension": ".py",
   "mimetype": "text/x-python",
   "name": "python",
   "nbconvert_exporter": "python",
   "pygments_lexer": "ipython3",
   "version": "3.7.3"
  }
 },
 "nbformat": 4,
 "nbformat_minor": 2
}
