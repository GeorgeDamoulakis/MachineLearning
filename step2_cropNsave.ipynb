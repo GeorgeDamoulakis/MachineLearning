{
 "cells": [
  {
   "cell_type": "code",
   "execution_count": null,
   "metadata": {},
   "outputs": [],
   "source": [
    "import numpy as np\n",
    "import matplotlib.pyplot as plt\n",
    "import skimage\n",
    "from skimage import filters, transform, util\n",
    "import os\n",
    "import cv2 as cv"
   ]
  },
  {
   "cell_type": "code",
   "execution_count": null,
   "metadata": {},
   "outputs": [],
   "source": [
    "dirName = (\"C:\\\\Users\\\\grdmg\\\\Desktop\\\\deep_condensation\\\\ALL_IMAGES\") #the original and rotated images"
   ]
  },
  {
   "cell_type": "code",
   "execution_count": null,
   "metadata": {},
   "outputs": [],
   "source": [
    "def getListOfFiles(dirName):\n",
    "    # create a list of file and sub directories\n",
    "    # names in the given directory\n",
    "    listOfFile = os.listdir(dirName)\n",
    "    allFiles = list()\n",
    "    # Iterate over all the entries\n",
    "    for entry in listOfFile:\n",
    "        # Create full path\n",
    "        fullPath = os.path.join(dirName, entry)\n",
    "        # If entry is a directory then get the list of files in this directory\n",
    "        if os.path.isdir(fullPath):\n",
    "            allFiles = allFiles + getListOfFiles(fullPath)\n",
    "        else:\n",
    "            allFiles.append(fullPath)\n",
    "\n",
    "    return allFiles"
   ]
  },
  {
   "cell_type": "code",
   "execution_count": null,
   "metadata": {},
   "outputs": [],
   "source": [
    "def scale(im):\n",
    "    return (im - np.mean(im)) / np.std(im)\n",
    "\n",
    "def norm(im):\n",
    "    return (im - np.min(im)) / (np.max(im) - np.min(im))"
   ]
  },
  {
   "cell_type": "code",
   "execution_count": null,
   "metadata": {},
   "outputs": [],
   "source": [
    "listOfFiles = getListOfFiles(dirName)\n",
    "listOfFiles.sort()\n",
    "L = len(listOfFiles)\n",
    "n=0\n",
    "for i in range(L):\n",
    "    image_name = listOfFiles[i]\n",
    "    img = cv.imread(image_name)\n"
   ]
  },
  {
   "cell_type": "code",
   "execution_count": null,
   "metadata": {},
   "outputs": [],
   "source": [
    "listOfFiles = getListOfFiles(dirName)\n",
    "listOfFiles.sort()\n",
    "L = len(listOfFiles)\n",
    "n=0\n",
    "for i in range(L):\n",
    "    image_name = listOfFiles[i]\n",
    "    img = cv.imread(image_name)\n",
    "    new_crops = 16\n",
    "    for j in range(15):\n",
    "        for k in range(15):\n",
    "            #img.convertTo(img, CV_8UC3, 255.0); \n",
    "            crop_img = img[j*32:j*32+32, k*32:k*32+32]\n",
    "            #print(crop_img.dtype)\n",
    "            scale_normal_crop = norm(scale(crop_img))\n",
    "            #print(scale_normal_crop.dtype)\n",
    "            #scale_normal_crop = scale_normal_crop.astype(np.uint8)\n",
    "            plt.imshow(scale_normal_crop)\n",
    "            plt.show()\n",
    "            scale_normal_crop *= 255 # or any coefficient\n",
    "            print(scale_normal_crop)\n",
    "            cv.imwrite(f\"cropped image,{i}-{j}-{k}.tif\", scale_normal_crop)\n",
    "            print(f\"cropped image,{i}-{j}-{k}\")"
   ]
  }
 ],
 "metadata": {
  "kernelspec": {
   "display_name": "Python 3",
   "language": "python",
   "name": "python3"
  },
  "language_info": {
   "codemirror_mode": {
    "name": "ipython",
    "version": 3
   },
   "file_extension": ".py",
   "mimetype": "text/x-python",
   "name": "python",
   "nbconvert_exporter": "python",
   "pygments_lexer": "ipython3",
   "version": "3.7.3"
  }
 },
 "nbformat": 4,
 "nbformat_minor": 2
}
